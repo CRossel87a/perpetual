{
 "cells": [
  {
   "cell_type": "code",
   "execution_count": 1,
   "metadata": {},
   "outputs": [],
   "source": [
    "import optuna\n",
    "import numpy as np\n",
    "from lightgbm import LGBMRegressor, LGBMClassifier\n",
    "from sklearn.metrics import mean_squared_error, log_loss\n",
    "from sklearn.datasets import fetch_covtype, fetch_california_housing\n",
    "from sklearn.model_selection import train_test_split, cross_validate\n",
    "from perpetual import PerpetualBooster"
   ]
  },
  {
   "cell_type": "code",
   "execution_count": 2,
   "metadata": {},
   "outputs": [
    {
     "name": "stdout",
     "output_type": "stream",
     "text": [
      "Python 3.10.14\n"
     ]
    }
   ],
   "source": [
    "!python --version"
   ]
  },
  {
   "cell_type": "code",
   "execution_count": 3,
   "metadata": {},
   "outputs": [
    {
     "name": "stdout",
     "output_type": "stream",
     "text": [
      "numpy: 1.26.4\n",
      "optuna: 3.6.0\n",
      "lightgbm: 4.3.0\n",
      "scikit-learn: 1.4.2\n",
      "perpetual: 0.1.0\n"
     ]
    }
   ],
   "source": [
    "from importlib.metadata import version\n",
    "\n",
    "print(f\"numpy: {version('numpy')}\")\n",
    "print(f\"optuna: {version('optuna')}\")\n",
    "print(f\"lightgbm: {version('lightgbm')}\")\n",
    "print(f\"scikit-learn: {version('scikit-learn')}\")\n",
    "print(f\"perpetual: {version('perpetual')}\")"
   ]
  },
  {
   "cell_type": "code",
   "execution_count": 4,
   "metadata": {},
   "outputs": [],
   "source": [
    "task_is_cal_housing = True  # change to False for Cover Types task."
   ]
  },
  {
   "cell_type": "code",
   "execution_count": 5,
   "metadata": {},
   "outputs": [],
   "source": [
    "seed = 4   # average results are reported for 5 seeds -> [0, 1, 2, 3, 4]\n",
    "n_estimators = 1  # results are reported for 100, 200, 300 n_estimators.\n",
    "n_trials = 1"
   ]
  },
  {
   "cell_type": "code",
   "execution_count": 6,
   "metadata": {},
   "outputs": [],
   "source": [
    "if task_is_cal_housing:\n",
    "    data, target = fetch_california_housing(return_X_y=True, as_frame=True)\n",
    "    scoring = \"neg_mean_squared_error\"\n",
    "    metric_function = mean_squared_error\n",
    "    metric_name = \"mse\"\n",
    "    LGBMBooster = LGBMRegressor\n",
    "    objective_type = \"SquaredLoss\"\n",
    "else:\n",
    "    data, target = fetch_covtype(return_X_y=True, as_frame=True)\n",
    "    scoring = \"neg_log_loss\"\n",
    "    metric_function = log_loss\n",
    "    metric_name = \"log_loss\"\n",
    "    LGBMBooster = LGBMClassifier\n",
    "    objective_type = \"LogLoss\""
   ]
  },
  {
   "cell_type": "code",
   "execution_count": 7,
   "metadata": {},
   "outputs": [
    {
     "name": "stdout",
     "output_type": "stream",
     "text": [
      "len(X_train): 16000\n",
      "len(X_test): 4640\n"
     ]
    }
   ],
   "source": [
    "X_train, X_test, y_train, y_test = train_test_split(data, target, test_size=0.2248, random_state=seed)\n",
    "\n",
    "print(f\"len(X_train): {len(X_train)}\")\n",
    "print(f\"len(X_test): {len(X_test)}\")"
   ]
  },
  {
   "cell_type": "code",
   "execution_count": 8,
   "metadata": {},
   "outputs": [],
   "source": [
    "best_cv_results = None\n",
    "cv_results = None\n",
    "\n",
    "def save_best_cv_results(study, trial):\n",
    "    global best_cv_results\n",
    "    if study.best_trial.number == trial.number:\n",
    "        best_cv_results = cv_results"
   ]
  },
  {
   "cell_type": "code",
   "execution_count": 9,
   "metadata": {},
   "outputs": [],
   "source": [
    "def objective_function(trial):\n",
    "    global cv_results\n",
    "    params = {\n",
    "        'seed': seed,\n",
    "        'verbosity': -1,\n",
    "        'n_estimators': n_estimators,\n",
    "        'learning_rate': trial.suggest_float('learning_rate', 0.001, 0.5, log=True),\n",
    "        'min_split_gain': trial.suggest_float('min_split_gain', 1e-6, 1.0, log=True),\n",
    "        'reg_alpha': trial.suggest_float('reg_alpha', 1e-6, 1.0, log=True),\n",
    "        'reg_lambda': trial.suggest_float('reg_lambda', 1e-6, 1.0, log=True),\n",
    "        'colsample_bytree': trial.suggest_float('colsample_bytree', 0.2, 1.0),\n",
    "        'subsample': trial.suggest_float('subsample', 0.2, 1.0),\n",
    "        'subsample_freq': trial.suggest_int('subsample_freq', 1, 10),\n",
    "        'max_depth': trial.suggest_int('max_depth', 3, 33),\n",
    "        'num_leaves': trial.suggest_int('num_leaves', 2, 1024),\n",
    "        'min_child_samples': trial.suggest_int('min_child_samples', 1, 100),\n",
    "    }\n",
    "    model = LGBMBooster(**params)\n",
    "    cv_results = cross_validate(model, X_train, y_train, cv=5, scoring=scoring, return_train_score=True, return_estimator=True)\n",
    "    return -1 * np.mean(cv_results['test_score'])"
   ]
  },
  {
   "cell_type": "code",
   "execution_count": 10,
   "metadata": {},
   "outputs": [
    {
     "name": "stderr",
     "output_type": "stream",
     "text": [
      "[I 2024-07-10 12:37:35,963] A new study created in memory with name: no-name-4c6a881c-9102-44d9-b018-3af8d37cb2ae\n"
     ]
    }
   ],
   "source": [
    "sampler = optuna.samplers.TPESampler(seed=seed)\n",
    "study = optuna.create_study(direction='minimize', sampler=sampler)"
   ]
  },
  {
   "cell_type": "code",
   "execution_count": 11,
   "metadata": {},
   "outputs": [
    {
     "name": "stderr",
     "output_type": "stream",
     "text": [
      "[I 2024-07-10 12:37:36,403] Trial 0 finished with value: 1.0644386016870766 and parameters: {'learning_rate': 0.4073657656436648, 'min_split_gain': 0.0019204079494910193, 'reg_alpha': 0.685655809011563, 'reg_lambda': 0.019448941142879615, 'colsample_bytree': 0.7581830596778167, 'subsample': 0.3728715964643011, 'subsample_freq': 10, 'max_depth': 3, 'num_leaves': 260, 'min_child_samples': 44}. Best is trial 0 with value: 1.0644386016870766.\n"
     ]
    },
    {
     "name": "stdout",
     "output_type": "stream",
     "text": [
      "CPU times: total: 422 ms\n",
      "Wall time: 404 ms\n"
     ]
    }
   ],
   "source": [
    "%%time\n",
    "study.optimize(objective_function, n_trials=n_trials, callbacks=[save_best_cv_results])"
   ]
  },
  {
   "cell_type": "code",
   "execution_count": 12,
   "metadata": {},
   "outputs": [
    {
     "name": "stdout",
     "output_type": "stream",
     "text": [
      "Number of finished trials: 1\n",
      "Best trial:\n",
      "  Number: 0\n",
      "  Value: 1.0644386016870766\n",
      "  Params: \n",
      "    learning_rate: 0.4073657656436648\n",
      "    min_split_gain: 0.0019204079494910193\n",
      "    reg_alpha: 0.685655809011563\n",
      "    reg_lambda: 0.019448941142879615\n",
      "    colsample_bytree: 0.7581830596778167\n",
      "    subsample: 0.3728715964643011\n",
      "    subsample_freq: 10\n",
      "    max_depth: 3\n",
      "    num_leaves: 260\n",
      "    min_child_samples: 44\n"
     ]
    }
   ],
   "source": [
    "print(f\"Number of finished trials: {len(study.trials)}\")\n",
    "print(f\"Best trial:\")\n",
    "print(f\"  Number: {study.best_trial.number}\")\n",
    "print(f\"  Value: {study.best_trial.value}\")\n",
    "print(f\"  Params: \")\n",
    "for key, value in study.best_trial.params.items():\n",
    "    print(f\"    {key}: {value}\")"
   ]
  },
  {
   "cell_type": "code",
   "execution_count": 13,
   "metadata": {},
   "outputs": [
    {
     "name": "stdout",
     "output_type": "stream",
     "text": [
      "CV train scores: [1.05503594 1.06615895 1.0512751  1.0563806  1.0637785 ]\n",
      "CV train scores average : 1.058526\n",
      "CV valid scores: [1.08474222 1.06704007 1.08133229 1.06841159 1.02066684]\n",
      "CV valid scores average : 1.064439\n"
     ]
    }
   ],
   "source": [
    "print(f\"CV train scores: {-1 * best_cv_results['train_score']}\")\n",
    "print(f\"CV train scores average : {round(np.mean(-1 * best_cv_results['train_score']), 6)}\")\n",
    "print(f\"CV valid scores: {-1 * best_cv_results['test_score']}\")\n",
    "print(f\"CV valid scores average : {round(np.mean(-1 * best_cv_results['test_score']), 6)}\")"
   ]
  },
  {
   "cell_type": "code",
   "execution_count": 14,
   "metadata": {},
   "outputs": [],
   "source": [
    "models = best_cv_results[\"estimator\"]"
   ]
  },
  {
   "cell_type": "code",
   "execution_count": 15,
   "metadata": {},
   "outputs": [
    {
     "name": "stdout",
     "output_type": "stream",
     "text": [
      "Model 0, train mse: 1.060977\n",
      "Model 1, train mse: 1.066335\n",
      "Model 2, train mse: 1.057287\n",
      "Model 3, train mse: 1.058787\n",
      "Model 4, train mse: 1.055156\n"
     ]
    }
   ],
   "source": [
    "for i, model in enumerate(models):\n",
    "    y_pred = model.predict_proba(X_train) if metric_name == \"log_loss\" else model.predict(X_train)\n",
    "    print(f\"Model {i}, train {metric_name}: {round(metric_function(y_train, y_pred), 6)}\")"
   ]
  },
  {
   "cell_type": "code",
   "execution_count": 16,
   "metadata": {},
   "outputs": [
    {
     "name": "stdout",
     "output_type": "stream",
     "text": [
      "Model 0, test mse: 1.035823\n",
      "Model 1, test mse: 1.042579\n",
      "Model 2, test mse: 1.032748\n",
      "Model 3, test mse: 1.039261\n",
      "Model 4, test mse: 1.031398\n"
     ]
    }
   ],
   "source": [
    "for i, model in enumerate(models):\n",
    "    y_pred = model.predict_proba(X_test) if metric_name == \"log_loss\" else model.predict(X_test)\n",
    "    print(f\"Model {i}, test {metric_name}: {round(metric_function(y_test, y_pred), 6)}\")"
   ]
  },
  {
   "cell_type": "code",
   "execution_count": 17,
   "metadata": {},
   "outputs": [
    {
     "name": "stdout",
     "output_type": "stream",
     "text": [
      "Train mse: 1.049704\n"
     ]
    }
   ],
   "source": [
    "if metric_name == \"log_loss\":\n",
    "    y_pred = np.mean([model.predict_proba(X_train) for model in models], axis=0)\n",
    "else:\n",
    "    y_pred = np.mean([model.predict(X_train) for model in models], axis=0)\n",
    "print(f\"Train {metric_name}: {round(metric_function(y_train, y_pred), 6)}\")"
   ]
  },
  {
   "cell_type": "code",
   "execution_count": 18,
   "metadata": {},
   "outputs": [
    {
     "name": "stdout",
     "output_type": "stream",
     "text": [
      "Test mse: 1.02622\n"
     ]
    }
   ],
   "source": [
    "if metric_name == \"log_loss\":\n",
    "    y_pred = np.mean([model.predict_proba(X_test) for model in models], axis=0)\n",
    "else:\n",
    "    y_pred = np.mean([model.predict(X_test) for model in models], axis=0)\n",
    "print(f\"Test {metric_name}: {round(metric_function(y_test, y_pred), 6)}\")"
   ]
  },
  {
   "cell_type": "markdown",
   "metadata": {},
   "source": [
    "<style scoped>\n",
    "table {\n",
    "  font-size: 12px;\n",
    "}\n",
    "</style>\n",
    "\n",
    "| LightGBM n_estimators | Seed | LightGBM mse | LightGBM cpu time |\n",
    "| --------------------- | ---- | ------------ | ----------------- |\n",
    "| 100                   | 0    | 0.186588     | 729               |\n",
    "| 100                   | 1    | 0.194348     | 1294              |\n",
    "| 100                   | 2    | 0.197862     | 990               |\n",
    "| 100                   | 3    | 0.188629     | 1143              |\n",
    "| 100                   | 4    | 0.194338     | 860               |\n",
    "| 100                   | avg  | 0.192196     | 978               |\n",
    "| 300                   | 0    | 0.185100     | 2589              |\n",
    "| 300                   | 1    | 0.192767     | 3650              |\n",
    "| 300                   | 2    | 0.190481     | 2746              |\n",
    "| 300                   | 3    | 0.182359     | 2782              |\n",
    "| 300                   | 4    | 0.191614     | 3871              |\n",
    "| 300                   | avg  | 0.188464     | 3128              |"
   ]
  },
  {
   "cell_type": "code",
   "execution_count": 19,
   "metadata": {},
   "outputs": [],
   "source": [
    "model = PerpetualBooster(objective=objective_type)"
   ]
  },
  {
   "cell_type": "code",
   "execution_count": 20,
   "metadata": {},
   "outputs": [
    {
     "name": "stdout",
     "output_type": "stream",
     "text": [
      "CPU times: total: 21.6 s\n",
      "Wall time: 20.7 s\n"
     ]
    },
    {
     "data": {
      "text/plain": [
       "<perpetual.PerpetualBooster at 0x1163632a260>"
      ]
     },
     "execution_count": 20,
     "metadata": {},
     "output_type": "execute_result"
    }
   ],
   "source": [
    "%%time\n",
    "model.fit(X_train, y_train, budget=1.5)"
   ]
  },
  {
   "cell_type": "code",
   "execution_count": 21,
   "metadata": {},
   "outputs": [
    {
     "name": "stdout",
     "output_type": "stream",
     "text": [
      "Test mse: 0.192352\n"
     ]
    }
   ],
   "source": [
    "if metric_name == \"log_loss\":\n",
    "    y_pred = model.predict_proba(X_test)\n",
    "else:\n",
    "    y_pred = model.predict(X_test)\n",
    "print(f\"Test {metric_name}: {round(metric_function(y_test, y_pred), 6)}\")"
   ]
  },
  {
   "cell_type": "code",
   "execution_count": 22,
   "metadata": {},
   "outputs": [
    {
     "data": {
      "text/plain": [
       "244"
      ]
     },
     "execution_count": 22,
     "metadata": {},
     "output_type": "execute_result"
    }
   ],
   "source": [
    "model.number_of_trees"
   ]
  },
  {
   "cell_type": "markdown",
   "metadata": {},
   "source": [
    "### target_loss_decrement = (budget / 10.0) * eta * loss_avg;\n",
    "\n",
    "<style scoped>\n",
    "table {\n",
    "  font-size: 12px;\n",
    "}\n",
    "</style>\n",
    "\n",
    "| Perpetual budget | Seed | Perpetual mse | Perpetual cpu time |\n",
    "| ---------------- | ---- | ------------- | ------------------ |\n",
    "| 1.0              | 0    | 0.187273      | 9.23               |\n",
    "| 1.0              | 1    | 0.189911      | 10.5               |\n",
    "| 1.0              | 2    | 0.194937      | 11.0               |\n",
    "| 1.0              | 3    | 0.182932      | 9.77               |\n",
    "| 1.0              | 4    | 0.198443      | 9.88               |\n",
    "| 1.0              | avg  | 0.190699      | 10.1               |\n",
    "| 1.5              | 0    | 0.185843      | 28.6               |\n",
    "| 1.5              | 1    | 0.188146      | 26.8               |\n",
    "| 1.5              | 2    | 0.190484      | 26.6               |\n",
    "| 1.5              | 3    | 0.178708      | 25.1               |\n",
    "| 1.5              | 4    | 0.192352      | 21.6               |\n",
    "| 1.5              | avg  | 0.187107      | 25.7               |"
   ]
  },
  {
   "cell_type": "markdown",
   "metadata": {},
   "source": [
    "### tld = eta * eta * loss_avg\n",
    "\n",
    "<style scoped>\n",
    "table {\n",
    "  font-size: 12px;\n",
    "}\n",
    "</style>\n",
    "\n",
    "| Perpetual budget | Seed | Perpetual mse | Perpetual cpu time |\n",
    "| ---------------- | ---- | ------------- | ------------------ |\n",
    "| 1.1              | 0    | 0.190265      | 8.27               |\n",
    "| 1.1              | 1    | 0.190839      | 8.81               |\n",
    "| 1.1              | 2    | 0.198457      | 11.2               |\n",
    "| 1.1              | 3    | 0.181992      | 8.94               |\n",
    "| 1.1              | 4    | 0.199403      | 7.47               |\n",
    "| 1.1              | avg  | 0.192191      | 8.94               |\n",
    "| 1.4              | 0    | 0.189875      | 16.8               |\n",
    "| 1.4              | 1    | 0.186736      | 20.0               |\n",
    "| 1.4              | 2    | 0.191496      | 21.1               |\n",
    "| 1.4              | 3    | 0.180240      | 19.2               |\n",
    "| 1.4              | 4    | 0.197255      | 18.3               |\n",
    "| 1.4              | avg  | 0.189120      | 19.1               |\n",
    "| 1.5              | 0    | 0.189845      | 20.5               |\n",
    "| 1.5              | 1    | 0.188703      | 23.9               |\n",
    "| 1.5              | 2    | 0.195430      | 31.3               |\n",
    "| 1.5              | 3    | 0.179527      | 27.6               |\n",
    "| 1.5              | 4    | 0.196902      | 23.2               |\n",
    "| 1.5              | avg  | 0.190081      | 25.3               |\n",
    "| 1.6              | 0    | 0.188318      | 28.4               |\n",
    "| 1.6              | 1    | 0.187110      | 31.8               |\n",
    "| 1.6              | 2    | 0.195210      | 37.9               |\n",
    "| 1.6              | 3    | 0.179427      | 33.9               |\n",
    "| 1.6              | 4    | 0.197369      | 28.1               |\n",
    "| 1.6              | avg  | 0.189487      | 32.0               |"
   ]
  }
 ],
 "metadata": {
  "kernelspec": {
   "display_name": "py311",
   "language": "python",
   "name": "python3"
  },
  "language_info": {
   "codemirror_mode": {
    "name": "ipython",
    "version": 3
   },
   "file_extension": ".py",
   "mimetype": "text/x-python",
   "name": "python",
   "nbconvert_exporter": "python",
   "pygments_lexer": "ipython3",
   "version": "3.10.14"
  },
  "orig_nbformat": 4
 },
 "nbformat": 4,
 "nbformat_minor": 2
}
