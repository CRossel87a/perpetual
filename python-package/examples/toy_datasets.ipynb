{
 "cells": [
  {
   "cell_type": "code",
   "execution_count": 1,
   "metadata": {},
   "outputs": [],
   "source": [
    "import time\n",
    "import pandas as pd\n",
    "from sklearn.datasets import load_breast_cancer, load_iris\n",
    "from sklearn.ensemble import RandomForestClassifier\n",
    "from sklearn.model_selection import train_test_split\n",
    "from sklearn.metrics import accuracy_score, log_loss\n",
    "from perpetual import PerpetualBooster"
   ]
  },
  {
   "cell_type": "code",
   "execution_count": 2,
   "metadata": {},
   "outputs": [
    {
     "name": "stdout",
     "output_type": "stream",
     "text": [
      "scikit-learn: 1.5.1\n",
      "perpetual: 0.5.0\n"
     ]
    }
   ],
   "source": [
    "from importlib.metadata import version\n",
    "\n",
    "print(f\"scikit-learn: {version('scikit-learn')}\")\n",
    "print(f\"perpetual: {version('perpetual')}\")"
   ]
  },
  {
   "cell_type": "code",
   "execution_count": 3,
   "metadata": {},
   "outputs": [
    {
     "name": "stderr",
     "output_type": "stream",
     "text": [
      "Reached iteration limit before auto stopping. Try to decrease the budget for the best performance.\n",
      "Reached iteration limit before auto stopping. Try to decrease the budget for the best performance.\n",
      "Reached iteration limit before auto stopping. Try to decrease the budget for the best performance.\n",
      "C:\\Users\\ASUS\\AppData\\Local\\Temp\\ipykernel_10292\\2038128689.py:14: FutureWarning: The behavior of DataFrame concatenation with empty or all-NA entries is deprecated. In a future version, this will no longer exclude empty or all-NA columns when determining the result dtypes. To retain the old behavior, exclude the relevant entries before the concat operation.\n",
      "  results = pd.concat([results,\n",
      "Reached iteration limit before auto stopping. Try to decrease the budget for the best performance.\n",
      "Reached iteration limit before auto stopping. Try to decrease the budget for the best performance.\n",
      "Reached iteration limit before auto stopping. Try to decrease the budget for the best performance.\n"
     ]
    }
   ],
   "source": [
    "def evaluate(model, X_train, y_train, X_test, y_test, budget=None):\n",
    "    start = time.time()\n",
    "    model.fit(X_train, y_train, budget=budget) if budget else model.fit(X_train, y_train)\n",
    "    duration = time.time() - start\n",
    "    return duration, accuracy_score(y_test, model.predict(X_test)), log_loss(y_test, model.predict_proba(X_test))\n",
    "\n",
    "datasets = {\"Breast Cancer\": load_breast_cancer(return_X_y=True), \"Binary Iris\": (load_iris(return_X_y=True)[0][load_iris().target!=2], load_iris(return_X_y=True)[1][load_iris().target!=2])}\n",
    "results = pd.DataFrame(columns=[\"Dataset\", \"Model\", \"Budget\", \"Time\", \"Accuracy\", \"Log Loss\"])\n",
    "\n",
    "for name, (X, y) in datasets.items():\n",
    "    X_train, X_test, y_train, y_test = train_test_split(X, y, test_size=0.2, random_state=42)\n",
    "    pb = PerpetualBooster(objective=\"LogLoss\")\n",
    "    rf = RandomForestClassifier()\n",
    "    results = pd.concat([results,\n",
    "                         pd.DataFrame([[name, \"Perpetual\", \"0.1\", *evaluate(pb, X_train, y_train, X_test, y_test, budget=0.1)]], columns=results.columns),\n",
    "                         pd.DataFrame([[name, \"Perpetual\", \"1.0\", *evaluate(pb, X_train, y_train, X_test, y_test, budget=1.0)]], columns=results.columns),\n",
    "                         pd.DataFrame([[name, \"Perpetual\", \"2.0\", *evaluate(pb, X_train, y_train, X_test, y_test, budget=2.0)]], columns=results.columns),\n",
    "                         pd.DataFrame([[name, \"RF\", \"-\", *evaluate(rf, X_train, y_train, X_test, y_test)]], columns=results.columns),\n",
    "                        ],\n",
    "                    ignore_index=True)"
   ]
  },
  {
   "cell_type": "code",
   "execution_count": 4,
   "metadata": {},
   "outputs": [
    {
     "data": {
      "text/html": [
       "<div>\n",
       "<style scoped>\n",
       "    .dataframe tbody tr th:only-of-type {\n",
       "        vertical-align: middle;\n",
       "    }\n",
       "\n",
       "    .dataframe tbody tr th {\n",
       "        vertical-align: top;\n",
       "    }\n",
       "\n",
       "    .dataframe thead th {\n",
       "        text-align: right;\n",
       "    }\n",
       "</style>\n",
       "<table border=\"1\" class=\"dataframe\">\n",
       "  <thead>\n",
       "    <tr style=\"text-align: right;\">\n",
       "      <th></th>\n",
       "      <th>Dataset</th>\n",
       "      <th>Model</th>\n",
       "      <th>Budget</th>\n",
       "      <th>Time</th>\n",
       "      <th>Accuracy</th>\n",
       "      <th>Log Loss</th>\n",
       "    </tr>\n",
       "  </thead>\n",
       "  <tbody>\n",
       "    <tr>\n",
       "      <th>0</th>\n",
       "      <td>Breast Cancer</td>\n",
       "      <td>Perpetual</td>\n",
       "      <td>0.1</td>\n",
       "      <td>149.592308</td>\n",
       "      <td>0.973684</td>\n",
       "      <td>0.158678</td>\n",
       "    </tr>\n",
       "    <tr>\n",
       "      <th>1</th>\n",
       "      <td>Breast Cancer</td>\n",
       "      <td>Perpetual</td>\n",
       "      <td>1.0</td>\n",
       "      <td>129.906461</td>\n",
       "      <td>0.973684</td>\n",
       "      <td>0.123220</td>\n",
       "    </tr>\n",
       "    <tr>\n",
       "      <th>2</th>\n",
       "      <td>Breast Cancer</td>\n",
       "      <td>Perpetual</td>\n",
       "      <td>2.0</td>\n",
       "      <td>155.879312</td>\n",
       "      <td>0.973684</td>\n",
       "      <td>0.099885</td>\n",
       "    </tr>\n",
       "    <tr>\n",
       "      <th>3</th>\n",
       "      <td>Breast Cancer</td>\n",
       "      <td>RF</td>\n",
       "      <td>-</td>\n",
       "      <td>0.522181</td>\n",
       "      <td>0.964912</td>\n",
       "      <td>0.103776</td>\n",
       "    </tr>\n",
       "    <tr>\n",
       "      <th>4</th>\n",
       "      <td>Binary Iris</td>\n",
       "      <td>Perpetual</td>\n",
       "      <td>0.1</td>\n",
       "      <td>0.335295</td>\n",
       "      <td>1.000000</td>\n",
       "      <td>0.000032</td>\n",
       "    </tr>\n",
       "    <tr>\n",
       "      <th>5</th>\n",
       "      <td>Binary Iris</td>\n",
       "      <td>Perpetual</td>\n",
       "      <td>1.0</td>\n",
       "      <td>0.378495</td>\n",
       "      <td>1.000000</td>\n",
       "      <td>0.000273</td>\n",
       "    </tr>\n",
       "    <tr>\n",
       "      <th>6</th>\n",
       "      <td>Binary Iris</td>\n",
       "      <td>Perpetual</td>\n",
       "      <td>2.0</td>\n",
       "      <td>0.334572</td>\n",
       "      <td>1.000000</td>\n",
       "      <td>0.004814</td>\n",
       "    </tr>\n",
       "    <tr>\n",
       "      <th>7</th>\n",
       "      <td>Binary Iris</td>\n",
       "      <td>RF</td>\n",
       "      <td>-</td>\n",
       "      <td>0.305424</td>\n",
       "      <td>1.000000</td>\n",
       "      <td>0.002518</td>\n",
       "    </tr>\n",
       "  </tbody>\n",
       "</table>\n",
       "</div>"
      ],
      "text/plain": [
       "         Dataset      Model Budget        Time  Accuracy  Log Loss\n",
       "0  Breast Cancer  Perpetual    0.1  149.592308  0.973684  0.158678\n",
       "1  Breast Cancer  Perpetual    1.0  129.906461  0.973684  0.123220\n",
       "2  Breast Cancer  Perpetual    2.0  155.879312  0.973684  0.099885\n",
       "3  Breast Cancer         RF      -    0.522181  0.964912  0.103776\n",
       "4    Binary Iris  Perpetual    0.1    0.335295  1.000000  0.000032\n",
       "5    Binary Iris  Perpetual    1.0    0.378495  1.000000  0.000273\n",
       "6    Binary Iris  Perpetual    2.0    0.334572  1.000000  0.004814\n",
       "7    Binary Iris         RF      -    0.305424  1.000000  0.002518"
      ]
     },
     "execution_count": 4,
     "metadata": {},
     "output_type": "execute_result"
    }
   ],
   "source": [
    "results"
   ]
  },
  {
   "cell_type": "code",
   "execution_count": 5,
   "metadata": {},
   "outputs": [
    {
     "data": {
      "text/plain": [
       "'|    | Dataset       | Model     | Budget   |       Time |   Accuracy |    Log Loss |\\n|---:|:--------------|:----------|:---------|-----------:|-----------:|------------:|\\n|  0 | Breast Cancer | Perpetual | 0.1      | 149.592    |   0.973684 | 0.158678    |\\n|  1 | Breast Cancer | Perpetual | 1.0      | 129.906    |   0.973684 | 0.12322     |\\n|  2 | Breast Cancer | Perpetual | 2.0      | 155.879    |   0.973684 | 0.0998845   |\\n|  3 | Breast Cancer | RF        | -        |   0.522181 |   0.964912 | 0.103776    |\\n|  4 | Binary Iris   | Perpetual | 0.1      |   0.335295 |   1        | 3.21456e-05 |\\n|  5 | Binary Iris   | Perpetual | 1.0      |   0.378495 |   1        | 0.000273461 |\\n|  6 | Binary Iris   | Perpetual | 2.0      |   0.334572 |   1        | 0.00481403  |\\n|  7 | Binary Iris   | RF        | -        |   0.305424 |   1        | 0.00251769  |'"
      ]
     },
     "execution_count": 5,
     "metadata": {},
     "output_type": "execute_result"
    }
   ],
   "source": [
    "results.to_markdown()"
   ]
  },
  {
   "cell_type": "code",
   "execution_count": 6,
   "metadata": {},
   "outputs": [
    {
     "name": "stdout",
     "output_type": "stream",
     "text": [
      "|    | Dataset       | Model     | Budget   |       Time |   Accuracy |    Log Loss |\n",
      "|---:|:--------------|:----------|:---------|-----------:|-----------:|------------:|\n",
      "|  0 | Breast Cancer | Perpetual | 0.1      | 149.592    |   0.973684 | 0.158678    |\n",
      "|  1 | Breast Cancer | Perpetual | 1.0      | 129.906    |   0.973684 | 0.12322     |\n",
      "|  2 | Breast Cancer | Perpetual | 2.0      | 155.879    |   0.973684 | 0.0998845   |\n",
      "|  3 | Breast Cancer | RF        | -        |   0.522181 |   0.964912 | 0.103776    |\n",
      "|  4 | Binary Iris   | Perpetual | 0.1      |   0.335295 |   1        | 3.21456e-05 |\n",
      "|  5 | Binary Iris   | Perpetual | 1.0      |   0.378495 |   1        | 0.000273461 |\n",
      "|  6 | Binary Iris   | Perpetual | 2.0      |   0.334572 |   1        | 0.00481403  |\n",
      "|  7 | Binary Iris   | RF        | -        |   0.305424 |   1        | 0.00251769  |\n"
     ]
    }
   ],
   "source": [
    "print(results.to_markdown())"
   ]
  }
 ],
 "metadata": {
  "kernelspec": {
   "display_name": "py311",
   "language": "python",
   "name": "python3"
  },
  "language_info": {
   "codemirror_mode": {
    "name": "ipython",
    "version": 3
   },
   "file_extension": ".py",
   "mimetype": "text/x-python",
   "name": "python",
   "nbconvert_exporter": "python",
   "pygments_lexer": "ipython3",
   "version": "3.11.9"
  }
 },
 "nbformat": 4,
 "nbformat_minor": 2
}
